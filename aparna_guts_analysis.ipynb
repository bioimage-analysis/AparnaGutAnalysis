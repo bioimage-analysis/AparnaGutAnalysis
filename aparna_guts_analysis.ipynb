{
 "cells": [
  {
   "cell_type": "code",
   "execution_count": 1,
   "metadata": {},
   "outputs": [],
   "source": [
    "%gui qt5\n",
    "# Note that this Magics command needs to be run in a cell\n",
    "# before any of the Napari objects are instantiated \n",
    "#(before starting viewer) to ensure it has time to \n",
    "# finish executing before they are called (few seconds)"
   ]
  },
  {
   "cell_type": "code",
   "execution_count": 2,
   "metadata": {},
   "outputs": [],
   "source": [
    "import time"
   ]
  },
  {
   "cell_type": "code",
   "execution_count": 3,
   "metadata": {},
   "outputs": [],
   "source": [
    "import numpy as np\n",
    "from skimage import io, filters, feature, measure, morphology, util\n",
    "import matplotlib.pyplot as plt\n",
    "from skimage.draw import polygon\n",
    "import alphashape\n",
    "from joblib import Parallel, delayed\n",
    "from sklearn.neighbors import KDTree"
   ]
  },
  {
   "cell_type": "code",
   "execution_count": 4,
   "metadata": {},
   "outputs": [],
   "source": [
    "from scipy import ndimage"
   ]
  },
  {
   "cell_type": "code",
   "execution_count": 5,
   "metadata": {},
   "outputs": [],
   "source": [
    "import napari"
   ]
  },
  {
   "cell_type": "code",
   "execution_count": 6,
   "metadata": {},
   "outputs": [],
   "source": [
    "img = io.imread(\"Data/2xfts_RD_4DFed_1DS_1.tif\")"
   ]
  },
  {
   "cell_type": "markdown",
   "metadata": {},
   "source": [
    "### We are going to select whick channel to work with - Starting with the DAPI channel"
   ]
  },
  {
   "cell_type": "code",
   "execution_count": 7,
   "metadata": {},
   "outputs": [],
   "source": [
    "DAPI = img[:,0,:,:]"
   ]
  },
  {
   "cell_type": "markdown",
   "metadata": {},
   "source": [
    "We creating a max intensity projection of DAPI to select our ROI"
   ]
  },
  {
   "cell_type": "code",
   "execution_count": 8,
   "metadata": {},
   "outputs": [],
   "source": [
    "mip_dapi = np.amax(DAPI, axis=0)"
   ]
  },
  {
   "cell_type": "markdown",
   "metadata": {},
   "source": [
    "We are using napari to create a ROI:\n",
    "We add \"new shape layer\"\n",
    "then we use \"add paths\""
   ]
  },
  {
   "cell_type": "code",
   "execution_count": 9,
   "metadata": {},
   "outputs": [],
   "source": [
    "viewer = napari.view_image(mip_dapi)"
   ]
  },
  {
   "cell_type": "code",
   "execution_count": 11,
   "metadata": {},
   "outputs": [],
   "source": [
    "mask = np.zeros(mip_dapi.shape, dtype = np.bool)\n",
    "rr, cc = polygon(viewer.layers[1].data[0][:,0], viewer.layers[1].data[0][:,1], mask.shape)\n",
    "mask[rr, cc] = 1"
   ]
  },
  {
   "cell_type": "markdown",
   "metadata": {},
   "source": [
    "Adding the mask we just created"
   ]
  },
  {
   "cell_type": "code",
   "execution_count": 12,
   "metadata": {},
   "outputs": [
    {
     "name": "stderr",
     "output_type": "stream",
     "text": [
      "/Applications/anaconda3/envs/aparna/lib/python3.7/site-packages/vispy/visuals/markers.py:564: FutureWarning: Passing (type, 1) or '1type' as a synonym of type is deprecated; in a future version of numpy, it will be understood as (type, (1,)) / '(1,)type'.\n",
      "  ('a_edgewidth', np.float32, 1)])\n"
     ]
    },
    {
     "data": {
      "text/plain": [
       "<Image layer 'Image [1]' at 0x12c6a3128>"
      ]
     },
     "execution_count": 12,
     "metadata": {},
     "output_type": "execute_result"
    }
   ],
   "source": [
    "viewer.add_image(mask, opacity = 0.5)"
   ]
  },
  {
   "cell_type": "markdown",
   "metadata": {},
   "source": [
    "We now mask our ROI"
   ]
  },
  {
   "cell_type": "code",
   "execution_count": 13,
   "metadata": {},
   "outputs": [
    {
     "data": {
      "text/plain": [
       "<matplotlib.image.AxesImage at 0x131ac2208>"
      ]
     },
     "execution_count": 13,
     "metadata": {},
     "output_type": "execute_result"
    },
    {
     "data": {
      "image/png": "[encoded data removed]",
      "text/plain": [
       "<Figure size 432x288 with 1 Axes>"
      ]
     },
     "metadata": {
      "needs_background": "light"
     },
     "output_type": "display_data"
    }
   ],
   "source": [
    "mask_3D = np.zeros(DAPI.shape, dtype = np.bool) \n",
    "mask_3D[:] = mask\n",
    "DAPI[~mask_3D] = 0\n",
    "plt.imshow(DAPI[20])"
   ]
  },
  {
   "cell_type": "markdown",
   "metadata": {},
   "source": [
    "Create a bounding box around our ROI"
   ]
  },
  {
   "cell_type": "code",
   "execution_count": 14,
   "metadata": {},
   "outputs": [],
   "source": [
    "bbox = ndimage.find_objects(mask_3D)\n",
    "DAPI_roi = DAPI[bbox[0]]"
   ]
  },
  {
   "cell_type": "code",
   "execution_count": 15,
   "metadata": {
    "scrolled": true
   },
   "outputs": [
    {
     "data": {
      "text/plain": [
       "<Image layer 'DAPI' at 0x131af8438>"
      ]
     },
     "execution_count": 15,
     "metadata": {},
     "output_type": "execute_result"
    }
   ],
   "source": [
    "viewer = napari.Viewer(ndisplay=2)\n",
    "viewer.add_image(DAPI_roi, name=\"DAPI\")"
   ]
  },
  {
   "cell_type": "code",
   "execution_count": 16,
   "metadata": {},
   "outputs": [],
   "source": [
    "from skimage.external.tifffile import TiffFile\n",
    "import re\n",
    "\n",
    "with TiffFile(\"Data/2xfts_RD_4DFed_1DS_1.tif\") as tif:\n",
    "    meta = tif.info()\n",
    "\n",
    "metadata = {}\n",
    "for line in meta.splitlines():\n",
    "    _, _, key_x = line.partition('x_resolution (2I)')\n",
    "    _, _, key_y = line.partition('y_resolution (2I)')\n",
    "    _, _, key_z = line.partition('spacing:')\n",
    "    _, _, key_unit = line.partition('unit:')\n",
    "    if key_x:\n",
    "        x_data = [int(x.group()) for x in re.finditer(r'\\d+', key_x)]\n",
    "        x_resolution = 1/(x_data[0]/x_data[1])\n",
    "        metadata['x_resolution'] = x_resolution\n",
    "    if key_y:\n",
    "        y_data = [int(x.group()) for x in re.finditer(r'\\d+', key_y)]\n",
    "        y_resolution = 1/(y_data[0]/y_data[1])\n",
    "        metadata['y_resolution'] = y_resolution\n",
    "        \n",
    "    if key_z:\n",
    "        metadata['z_resolution'] = float(key_z)\n",
    "    if key_unit:\n",
    "        metadata['unit'] = key_unit"
   ]
  },
  {
   "cell_type": "code",
   "execution_count": 17,
   "metadata": {},
   "outputs": [],
   "source": [
    "# The microscope reports the following spacing\n",
    "original_spacing = np.array([metadata['z_resolution'], metadata['x_resolution'], metadata['y_resolution']])"
   ]
  },
  {
   "cell_type": "code",
   "execution_count": 18,
   "metadata": {},
   "outputs": [],
   "source": [
    "base_sigma = 2.0\n",
    "\n",
    "sigma = base_sigma / original_spacing\n",
    "\n",
    "gaussian_to_seg = filters.gaussian(DAPI_roi, multichannel=False, sigma=sigma)"
   ]
  },
  {
   "cell_type": "code",
   "execution_count": 19,
   "metadata": {},
   "outputs": [
    {
     "data": {
      "text/plain": [
       "<Image layer 'DAPI_Blured' at 0x131d64898>"
      ]
     },
     "execution_count": 19,
     "metadata": {},
     "output_type": "execute_result"
    }
   ],
   "source": [
    "viewer.add_image(gaussian_to_seg, name=\"DAPI_Blured\")"
   ]
  },
  {
   "cell_type": "code",
   "execution_count": 20,
   "metadata": {},
   "outputs": [],
   "source": [
    "def roll_ball(img, size =20):\n",
    "    result = np.empty(img.shape)\n",
    "    # Background substraction\n",
    "    background = ndimage.minimum_filter(img, size = 8)\n",
    "    result = img-background\n",
    "    return(result)"
   ]
  },
  {
   "cell_type": "code",
   "execution_count": 21,
   "metadata": {},
   "outputs": [],
   "source": [
    "back_sub = roll_ball(gaussian_to_seg)"
   ]
  },
  {
   "cell_type": "code",
   "execution_count": 22,
   "metadata": {},
   "outputs": [],
   "source": [
    "threshold_triangle = filters.threshold_triangle(back_sub)\n",
    "binary_DAPI = back_sub > threshold_triangle"
   ]
  },
  {
   "cell_type": "code",
   "execution_count": 23,
   "metadata": {},
   "outputs": [
    {
     "data": {
      "text/plain": [
       "<Labels layer 'binary' at 0x131b31710>"
      ]
     },
     "execution_count": 23,
     "metadata": {},
     "output_type": "execute_result"
    }
   ],
   "source": [
    "viewer.add_labels(binary_DAPI, name = \"binary\")"
   ]
  },
  {
   "cell_type": "code",
   "execution_count": 24,
   "metadata": {},
   "outputs": [],
   "source": [
    "def create_mask(binary_data, slices = 0):\n",
    "    result = np.zeros(binary_data[slices].shape)\n",
    "    \n",
    "    coord_x, coord_y = np.where(binary_data[slices]>0)  \n",
    "    lst_pts = np.concatenate((coord_x[:, np.newaxis], coord_y[:, np.newaxis]), axis=1)\n",
    "        \n",
    "    alpha_shape = alphashape.alphashape(lst_pts[::16], 0.1)\n",
    "    \n",
    "    if alpha_shape.type == 'MultiPolygon':\n",
    "        for alpha in alpha_shape:\n",
    "            if alpha.area > 20000:\n",
    "                x, y = alpha.exterior.coords.xy\n",
    "                rr, cc = polygon(np.asarray(x, dtype=np.int),np.asarray(y, dtype=np.int))\n",
    "                result[rr, cc] = 1\n",
    "    elif alpha_shape.type == 'GeometryCollection':\n",
    "        pass\n",
    "\n",
    "    else:\n",
    "        x, y = alpha_shape.exterior.coords.xy\n",
    "        rr, cc = polygon(np.asarray(x, dtype=np.int),np.asarray(y, dtype=np.int))\n",
    "        result[rr, cc] = 1\n",
    "    return result"
   ]
  },
  {
   "cell_type": "markdown",
   "metadata": {},
   "source": [
    "Create a concave bounding box around the binary image.\n",
    "This can take few minutes, depending on the number of processors on your machine. "
   ]
  },
  {
   "cell_type": "code",
   "execution_count": 25,
   "metadata": {
    "scrolled": true
   },
   "outputs": [],
   "source": [
    "t1 = time.time()\n",
    "res_paral = Parallel(n_jobs=-1)(delayed(create_mask)(binary_DAPI, slices) for slices in range(len(binary_DAPI)))\n",
    "t2 = time.time()"
   ]
  },
  {
   "cell_type": "code",
   "execution_count": 26,
   "metadata": {},
   "outputs": [
    {
     "data": {
      "text/plain": [
       "96.69700193405151"
      ]
     },
     "execution_count": 26,
     "metadata": {},
     "output_type": "execute_result"
    }
   ],
   "source": [
    "t2-t1"
   ]
  },
  {
   "cell_type": "code",
   "execution_count": 27,
   "metadata": {},
   "outputs": [],
   "source": [
    "mask = np.asarray(res_paral)"
   ]
  },
  {
   "cell_type": "code",
   "execution_count": 28,
   "metadata": {},
   "outputs": [
    {
     "data": {
      "text/plain": [
       "<Labels layer 'Labels' at 0x131ac2668>"
      ]
     },
     "execution_count": 28,
     "metadata": {},
     "output_type": "execute_result"
    }
   ],
   "source": [
    "viewer.add_labels(mask)"
   ]
  },
  {
   "cell_type": "markdown",
   "metadata": {},
   "source": [
    "Create a border region "
   ]
  },
  {
   "cell_type": "code",
   "execution_count": 29,
   "metadata": {},
   "outputs": [],
   "source": [
    "border = mask - morphology.erosion(mask, morphology.ball(1))"
   ]
  },
  {
   "cell_type": "code",
   "execution_count": 30,
   "metadata": {},
   "outputs": [
    {
     "data": {
      "text/plain": [
       "<Labels layer 'Labels [1]' at 0x10a56ae80>"
      ]
     },
     "execution_count": 30,
     "metadata": {},
     "output_type": "execute_result"
    }
   ],
   "source": [
    "viewer.add_labels(border)"
   ]
  },
  {
   "cell_type": "markdown",
   "metadata": {},
   "source": [
    "Reshape border to be [n_samples (number of pixels), n_features (number of dimension)] "
   ]
  },
  {
   "cell_type": "code",
   "execution_count": 31,
   "metadata": {},
   "outputs": [],
   "source": [
    "border_reshape = np.squeeze(np.dstack(np.where(border>0)))"
   ]
  },
  {
   "cell_type": "markdown",
   "metadata": {},
   "source": [
    "Create a KDTree"
   ]
  },
  {
   "cell_type": "code",
   "execution_count": 32,
   "metadata": {},
   "outputs": [],
   "source": [
    "tree = KDTree(border_reshape)"
   ]
  },
  {
   "cell_type": "markdown",
   "metadata": {},
   "source": [
    "Find coordinates of the different nucleus"
   ]
  },
  {
   "cell_type": "code",
   "execution_count": 33,
   "metadata": {},
   "outputs": [],
   "source": [
    "coord = feature.peak_local_max(\n",
    "    gaussian_to_seg,\n",
    "    threshold_abs=np.quantile(back_sub, 0.9),\n",
    "    footprint=np.ones((8, 8, 8), dtype=np.bool),\n",
    "    indices=True\n",
    ")"
   ]
  },
  {
   "cell_type": "markdown",
   "metadata": {},
   "source": [
    "Find shortest distance of these coordinates to the edge of the guts"
   ]
  },
  {
   "cell_type": "code",
   "execution_count": 34,
   "metadata": {},
   "outputs": [],
   "source": [
    "distance_membrane = np.empty((len(coord), 4))\n",
    "for i, coo in enumerate(coord):\n",
    "    closest_dist, closest_id = tree.query(coo[np.newaxis, :] , k=1)\n",
    "    distance_membrane[i,0] = closest_dist\n",
    "    distance_membrane[i,1] = coo[0]\n",
    "    distance_membrane[i,2] = coo[1]\n",
    "    distance_membrane[i,3] = coo[2]"
   ]
  },
  {
   "cell_type": "markdown",
   "metadata": {},
   "source": [
    "Creating an image with markers of nucleus color coded base on the distance to the edge of the guts"
   ]
  },
  {
   "cell_type": "code",
   "execution_count": 72,
   "metadata": {},
   "outputs": [],
   "source": [
    "dist_mark = np.zeros(gaussian_to_seg.shape, dtype=np.int)\n",
    "dist_mark[distance_membrane[:,1].astype(np.int), \n",
    "          distance_membrane[:,2].astype(np.int), \n",
    "          distance_membrane[:,3].astype(np.int)] = distance_membrane[:,0]+1\n",
    "#dist_mark = morphology.dilation(markers, morphology.disk(5))"
   ]
  },
  {
   "cell_type": "code",
   "execution_count": 73,
   "metadata": {},
   "outputs": [],
   "source": [
    "t1 = time.time()\n",
    "dist_mark = morphology.dilation(dist_mark, morphology.ball(4))\n",
    "dist_mark = morphology.dilation(dist_mark, morphology.ball(4))\n",
    "t2 = time.time()"
   ]
  },
  {
   "cell_type": "code",
   "execution_count": 37,
   "metadata": {},
   "outputs": [
    {
     "data": {
      "text/plain": [
       "16.91603136062622"
      ]
     },
     "execution_count": 37,
     "metadata": {},
     "output_type": "execute_result"
    }
   ],
   "source": [
    "t2 - t1"
   ]
  },
  {
   "cell_type": "code",
   "execution_count": 38,
   "metadata": {},
   "outputs": [
    {
     "data": {
      "text/plain": [
       "<Image layer 'Image' at 0x145148c18>"
      ]
     },
     "execution_count": 38,
     "metadata": {},
     "output_type": "execute_result"
    }
   ],
   "source": [
    "viewer.add_image(dist_mark, colormap = 'plasma', blending = \"additive\")"
   ]
  },
  {
   "cell_type": "markdown",
   "metadata": {},
   "source": [
    "Histogram of the result"
   ]
  },
  {
   "cell_type": "code",
   "execution_count": 302,
   "metadata": {},
   "outputs": [
    {
     "data": {
      "text/plain": [
       "Text(0, 0.5, 'Number of cells')"
      ]
     },
     "execution_count": 302,
     "metadata": {},
     "output_type": "execute_result"
    },
    {
     "data": {
      "image/png": "[encoded data removed]",
      "text/plain": [
       "<Figure size 432x288 with 1 Axes>"
      ]
     },
     "metadata": {
      "needs_background": "light"
     },
     "output_type": "display_data"
    }
   ],
   "source": [
    "cm = plt.cm.get_cmap('plasma')\n",
    "n, bins, patches = plt.hist(distance_membrane[:,0], color=\"green\")\n",
    "\n",
    "bin_centers = 0.5 * (bins[:-1] + bins[1:])\n",
    "\n",
    "# scale values to interval [0,1]\n",
    "col = bin_centers - min(bin_centers) + 0.1\n",
    "col /= max(col)\n",
    "\n",
    "for c, p in zip(col, patches):\n",
    "    plt.setp(p, 'facecolor', cm(c))\n",
    "plt.xlabel('distance from edge in px')\n",
    "plt.ylabel('Number of cells')"
   ]
  },
  {
   "cell_type": "markdown",
   "metadata": {},
   "source": [
    "Measure intensity in different channel, base on distance to the edge"
   ]
  },
  {
   "cell_type": "code",
   "execution_count": 178,
   "metadata": {},
   "outputs": [],
   "source": [
    "def measure_int_channel(dist_mark, img, bbox):\n",
    "    data = []\n",
    "    for i in range(1,dist_mark.max()):\n",
    "        channels = []\n",
    "        for ch in range(1, img.shape[1]):\n",
    "            Ch_roi = img[:,ch,:,:][bbox[0]]\n",
    "            dapi_label = measure.label(dist_mark==i)\n",
    "            prop_ch = measure.regionprops(dapi_label, Ch_roi)\n",
    "            values = []\n",
    "            for prop in prop_ch:\n",
    "                mean = prop.mean_intensity\n",
    "                coord = prop.centroid\n",
    "                values.append((i, ch, coord[0], coord[1], coord[2], mean))\n",
    "            channels.append(np.asarray(values))\n",
    "        data.append(np.vstack(channels))\n",
    "    return np.vstack(data)"
   ]
  },
  {
   "cell_type": "code",
   "execution_count": 179,
   "metadata": {},
   "outputs": [],
   "source": [
    "data = measure_int_channel(dist_mark, img, bbox)"
   ]
  },
  {
   "cell_type": "code",
   "execution_count": 151,
   "metadata": {},
   "outputs": [],
   "source": [
    "import pandas as pd"
   ]
  },
  {
   "cell_type": "code",
   "execution_count": 233,
   "metadata": {},
   "outputs": [],
   "source": [
    "from sklearn import preprocessing"
   ]
  },
  {
   "cell_type": "markdown",
   "metadata": {},
   "source": [
    "Create a dataframe ==> csv file"
   ]
  },
  {
   "cell_type": "code",
   "execution_count": 182,
   "metadata": {},
   "outputs": [],
   "source": [
    "df = pd.DataFrame(data , columns = ['Distance from edges', 'channel', 'coord z',\n",
    "                                    'coord x', 'coord y', 'mean intensity'])"
   ]
  },
  {
   "cell_type": "code",
   "execution_count": 257,
   "metadata": {},
   "outputs": [],
   "source": [
    "column_norm = []\n",
    "for i in range(1,5):\n",
    "    x = df.loc[df['channel'] == i]['mean intensity'].values\n",
    "    x_v = x.reshape(-1, 1)\n",
    "    min_max_scaler = preprocessing.MinMaxScaler()\n",
    "    x_scaled = min_max_scaler.fit_transform(x_v)\n",
    "    column_norm.append(x_scaled)"
   ]
  },
  {
   "cell_type": "code",
   "execution_count": 263,
   "metadata": {},
   "outputs": [],
   "source": [
    "df[\"Normalized mean intensity\"] = np.vstack(column_norm)"
   ]
  },
  {
   "cell_type": "code",
   "execution_count": 283,
   "metadata": {},
   "outputs": [],
   "source": [
    "df = df[['channel', 'Distance from edges', 'mean intensity', \n",
    "         'Normalized mean intensity', 'coord z', 'coord x', 'coord y']]"
   ]
  },
  {
   "cell_type": "code",
   "execution_count": 304,
   "metadata": {},
   "outputs": [],
   "source": [
    "df.to_csv('/Users/Espenel/Desktop/Mini-Grant-Image-analysis/2019/Aparna/Data/result.csv')"
   ]
  },
  {
   "cell_type": "markdown",
   "metadata": {},
   "source": [
    "### Just some test after that cell"
   ]
  },
  {
   "cell_type": "code",
   "execution_count": 294,
   "metadata": {},
   "outputs": [],
   "source": [
    "grouped = df.groupby(['channel'])"
   ]
  },
  {
   "cell_type": "code",
   "execution_count": 301,
   "metadata": {},
   "outputs": [
    {
     "data": {
      "image/png": "[encoded data removed]",
      "text/plain": [
       "<Figure size 576x576 with 1 Axes>"
      ]
     },
     "metadata": {
      "needs_background": "light"
     },
     "output_type": "display_data"
    }
   ],
   "source": [
    "fig, ax = plt.subplots(figsize=(8,8))\n",
    "grouped.plot(kind='scatter', x='Distance from edges', \n",
    "             y='Normalized mean intensity', style='o', ax=ax);"
   ]
  },
  {
   "cell_type": "code",
   "execution_count": null,
   "metadata": {},
   "outputs": [],
   "source": []
  }
 ],
 "metadata": {
  "kernelspec": {
   "display_name": "Python 3",
   "language": "python",
   "name": "python3"
  },
  "language_info": {
   "codemirror_mode": {
    "name": "ipython",
    "version": 3
   },
   "file_extension": ".py",
   "mimetype": "text/x-python",
   "name": "python",
   "nbconvert_exporter": "python",
   "pygments_lexer": "ipython3",
   "version": "3.7.3"
  }
 },
 "nbformat": 4,
 "nbformat_minor": 4
}
