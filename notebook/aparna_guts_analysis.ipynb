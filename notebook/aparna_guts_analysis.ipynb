{
 "cells": [
  {
   "cell_type": "code",
   "execution_count": 1,
   "metadata": {},
   "outputs": [],
   "source": [
    "%gui qt5\n",
    "# Note that this Magics command needs to be run in a cell\n",
    "# before any of the Napari objects are instantiated \n",
    "#(before starting viewer) to ensure it has time to \n",
    "# finish executing before they are called (few seconds)"
   ]
  },
  {
   "cell_type": "code",
   "execution_count": 2,
   "metadata": {},
   "outputs": [],
   "source": [
    "# Some magic so that the notebook will reload external python modules;\n",
    "# see http://stackoverflow.com/questions/1907993/autoreload-of-modules-in-ipython\n",
    "%load_ext autoreload\n",
    "%autoreload 2\n",
    "%reload_ext autoreload"
   ]
  },
  {
   "cell_type": "code",
   "execution_count": 3,
   "metadata": {},
   "outputs": [],
   "source": [
    "# Ignore warnings in notebook\n",
    "import warnings\n",
    "warnings.filterwarnings('ignore')"
   ]
  },
  {
   "cell_type": "code",
   "execution_count": 4,
   "metadata": {},
   "outputs": [],
   "source": [
    "# Create a temporary python PATH to the module that we are using for the analysis\n",
    "import sys\n",
    "sys.path.insert(0, \"/Users/Espenel/Desktop/Mini-Grant-Image-analysis/2019/Aparna/AparnaAnalysis/utils\")"
   ]
  },
  {
   "cell_type": "code",
   "execution_count": 6,
   "metadata": {},
   "outputs": [],
   "source": [
    "from guts_analysis import *"
   ]
  },
  {
   "cell_type": "code",
   "execution_count": 7,
   "metadata": {},
   "outputs": [],
   "source": [
    "file = \"/Users/Espenel/Desktop/Mini-Grant-Image-analysis/2019/Aparna/Data/2xfts_RD_4DFed_1DS_1.tif\""
   ]
  },
  {
   "cell_type": "code",
   "execution_count": 8,
   "metadata": {},
   "outputs": [],
   "source": [
    "import napari\n",
    "from skimage import io\n",
    "import numpy as np"
   ]
  },
  {
   "cell_type": "code",
   "execution_count": 9,
   "metadata": {},
   "outputs": [],
   "source": [
    "img = io.imread(file)"
   ]
  },
  {
   "cell_type": "markdown",
   "metadata": {},
   "source": [
    "### We are going to select which channel to work with - Starting with the DAPI channel"
   ]
  },
  {
   "cell_type": "code",
   "execution_count": 10,
   "metadata": {},
   "outputs": [],
   "source": [
    "DAPI_Ch = 0"
   ]
  },
  {
   "cell_type": "markdown",
   "metadata": {},
   "source": [
    "We creating a max intensity projection of DAPI to select our ROI"
   ]
  },
  {
   "cell_type": "code",
   "execution_count": 11,
   "metadata": {},
   "outputs": [],
   "source": [
    "mip_dapi = np.amax(img[:,DAPI_Ch,:,:], axis=0)"
   ]
  },
  {
   "cell_type": "markdown",
   "metadata": {},
   "source": [
    "We are using napari to create a ROI:   \n",
    "click `new shape layer`, then we use `add paths`\n",
    "press `<esc>` when drawing is done. "
   ]
  },
  {
   "cell_type": "code",
   "execution_count": 12,
   "metadata": {},
   "outputs": [],
   "source": [
    "viewer = napari.view_image(mip_dapi)"
   ]
  },
  {
   "cell_type": "code",
   "execution_count": 13,
   "metadata": {},
   "outputs": [],
   "source": [
    "DAPI_roi, bbox = create_mask.bounding_box(viewer, img)"
   ]
  },
  {
   "cell_type": "code",
   "execution_count": 14,
   "metadata": {
    "scrolled": true
   },
   "outputs": [
    {
     "data": {
      "text/plain": [
       "<Image layer 'DAPI' at 0x12df37048>"
      ]
     },
     "execution_count": 14,
     "metadata": {},
     "output_type": "execute_result"
    }
   ],
   "source": [
    "viewer = napari.Viewer(ndisplay=2)\n",
    "viewer.add_image(DAPI_roi, name=\"DAPI\")"
   ]
  },
  {
   "cell_type": "markdown",
   "metadata": {},
   "source": [
    "We create a binary mask of the guts and find the border"
   ]
  },
  {
   "cell_type": "code",
   "execution_count": 15,
   "metadata": {},
   "outputs": [],
   "source": [
    "mask, border, back_sub = create_mask.mask_guts(file, DAPI_roi, size =20)"
   ]
  },
  {
   "cell_type": "code",
   "execution_count": 16,
   "metadata": {},
   "outputs": [
    {
     "data": {
      "text/plain": [
       "<Labels layer 'mask' at 0x132d06a20>"
      ]
     },
     "execution_count": 16,
     "metadata": {},
     "output_type": "execute_result"
    }
   ],
   "source": [
    "viewer.add_labels(mask, name = \"mask\")"
   ]
  },
  {
   "cell_type": "code",
   "execution_count": 17,
   "metadata": {},
   "outputs": [
    {
     "data": {
      "text/plain": [
       "<Labels layer 'border' at 0x132d06630>"
      ]
     },
     "execution_count": 17,
     "metadata": {},
     "output_type": "execute_result"
    }
   ],
   "source": [
    "viewer.add_labels(border, name = \"border\")"
   ]
  },
  {
   "cell_type": "code",
   "execution_count": 18,
   "metadata": {},
   "outputs": [
    {
     "data": {
      "image/png": "[encoded data removed]",
      "text/plain": [
       "<Figure size 432x288 with 1 Axes>"
      ]
     },
     "metadata": {
      "needs_background": "light"
     },
     "output_type": "display_data"
    }
   ],
   "source": [
    "dist_mark = dist_edge.nucleus_vs_dist_guts(back_sub, border, plot=True)"
   ]
  },
  {
   "cell_type": "code",
   "execution_count": 19,
   "metadata": {},
   "outputs": [
    {
     "data": {
      "text/plain": [
       "<Image layer 'Image' at 0x12d576d30>"
      ]
     },
     "execution_count": 19,
     "metadata": {},
     "output_type": "execute_result"
    }
   ],
   "source": [
    "viewer.add_image(dist_mark, colormap = 'plasma', blending = \"additive\")"
   ]
  },
  {
   "cell_type": "code",
   "execution_count": 23,
   "metadata": {},
   "outputs": [],
   "source": [
    "df = analysis.create_table(dist_mark, img, bbox, file, save= True)"
   ]
  },
  {
   "cell_type": "code",
   "execution_count": 24,
   "metadata": {},
   "outputs": [
    {
     "data": {
      "text/html": [
       "<div>\n",
       "<style scoped>\n",
       "    .dataframe tbody tr th:only-of-type {\n",
       "        vertical-align: middle;\n",
       "    }\n",
       "\n",
       "    .dataframe tbody tr th {\n",
       "        vertical-align: top;\n",
       "    }\n",
       "\n",
       "    .dataframe thead th {\n",
       "        text-align: right;\n",
       "    }\n",
       "</style>\n",
       "<table border=\"1\" class=\"dataframe\">\n",
       "  <thead>\n",
       "    <tr style=\"text-align: right;\">\n",
       "      <th></th>\n",
       "      <th>channel</th>\n",
       "      <th>Distance from edges</th>\n",
       "      <th>mean intensity</th>\n",
       "      <th>Normalized mean intensity</th>\n",
       "      <th>coord z</th>\n",
       "      <th>coord x</th>\n",
       "      <th>coord y</th>\n",
       "    </tr>\n",
       "  </thead>\n",
       "  <tbody>\n",
       "    <tr>\n",
       "      <th>0</th>\n",
       "      <td>1.0</td>\n",
       "      <td>1.0</td>\n",
       "      <td>1080.121313</td>\n",
       "      <td>0.106963</td>\n",
       "      <td>23.00000</td>\n",
       "      <td>472.000000</td>\n",
       "      <td>247.00000</td>\n",
       "    </tr>\n",
       "    <tr>\n",
       "      <th>1</th>\n",
       "      <td>1.0</td>\n",
       "      <td>1.0</td>\n",
       "      <td>1479.184752</td>\n",
       "      <td>0.177012</td>\n",
       "      <td>27.00000</td>\n",
       "      <td>515.000000</td>\n",
       "      <td>300.00000</td>\n",
       "    </tr>\n",
       "    <tr>\n",
       "      <th>2</th>\n",
       "      <td>1.0</td>\n",
       "      <td>1.0</td>\n",
       "      <td>1176.356164</td>\n",
       "      <td>0.123855</td>\n",
       "      <td>29.60274</td>\n",
       "      <td>539.172211</td>\n",
       "      <td>232.60274</td>\n",
       "    </tr>\n",
       "    <tr>\n",
       "      <th>3</th>\n",
       "      <td>2.0</td>\n",
       "      <td>1.0</td>\n",
       "      <td>242.809683</td>\n",
       "      <td>0.193876</td>\n",
       "      <td>23.00000</td>\n",
       "      <td>472.000000</td>\n",
       "      <td>247.00000</td>\n",
       "    </tr>\n",
       "    <tr>\n",
       "      <th>4</th>\n",
       "      <td>2.0</td>\n",
       "      <td>1.0</td>\n",
       "      <td>351.490262</td>\n",
       "      <td>0.023178</td>\n",
       "      <td>27.00000</td>\n",
       "      <td>515.000000</td>\n",
       "      <td>300.00000</td>\n",
       "    </tr>\n",
       "    <tr>\n",
       "      <th>...</th>\n",
       "      <td>...</td>\n",
       "      <td>...</td>\n",
       "      <td>...</td>\n",
       "      <td>...</td>\n",
       "      <td>...</td>\n",
       "      <td>...</td>\n",
       "      <td>...</td>\n",
       "    </tr>\n",
       "    <tr>\n",
       "      <th>4231</th>\n",
       "      <td>4.0</td>\n",
       "      <td>16.0</td>\n",
       "      <td>444.084029</td>\n",
       "      <td>0.077606</td>\n",
       "      <td>17.00000</td>\n",
       "      <td>458.000000</td>\n",
       "      <td>451.00000</td>\n",
       "    </tr>\n",
       "    <tr>\n",
       "      <th>4232</th>\n",
       "      <td>4.0</td>\n",
       "      <td>16.0</td>\n",
       "      <td>326.348915</td>\n",
       "      <td>0.039629</td>\n",
       "      <td>19.00000</td>\n",
       "      <td>190.000000</td>\n",
       "      <td>432.00000</td>\n",
       "    </tr>\n",
       "    <tr>\n",
       "      <th>4233</th>\n",
       "      <td>4.0</td>\n",
       "      <td>16.0</td>\n",
       "      <td>410.742905</td>\n",
       "      <td>0.066851</td>\n",
       "      <td>20.00000</td>\n",
       "      <td>159.000000</td>\n",
       "      <td>428.00000</td>\n",
       "    </tr>\n",
       "    <tr>\n",
       "      <th>4234</th>\n",
       "      <td>4.0</td>\n",
       "      <td>16.0</td>\n",
       "      <td>437.977741</td>\n",
       "      <td>0.075636</td>\n",
       "      <td>20.00000</td>\n",
       "      <td>266.000000</td>\n",
       "      <td>310.00000</td>\n",
       "    </tr>\n",
       "    <tr>\n",
       "      <th>4235</th>\n",
       "      <td>4.0</td>\n",
       "      <td>16.0</td>\n",
       "      <td>581.779633</td>\n",
       "      <td>0.122020</td>\n",
       "      <td>25.00000</td>\n",
       "      <td>110.000000</td>\n",
       "      <td>164.00000</td>\n",
       "    </tr>\n",
       "  </tbody>\n",
       "</table>\n",
       "<p>4236 rows × 7 columns</p>\n",
       "</div>"
      ],
      "text/plain": [
       "      channel  Distance from edges  mean intensity  Normalized mean intensity  \\\n",
       "0         1.0                  1.0     1080.121313                   0.106963   \n",
       "1         1.0                  1.0     1479.184752                   0.177012   \n",
       "2         1.0                  1.0     1176.356164                   0.123855   \n",
       "3         2.0                  1.0      242.809683                   0.193876   \n",
       "4         2.0                  1.0      351.490262                   0.023178   \n",
       "...       ...                  ...             ...                        ...   \n",
       "4231      4.0                 16.0      444.084029                   0.077606   \n",
       "4232      4.0                 16.0      326.348915                   0.039629   \n",
       "4233      4.0                 16.0      410.742905                   0.066851   \n",
       "4234      4.0                 16.0      437.977741                   0.075636   \n",
       "4235      4.0                 16.0      581.779633                   0.122020   \n",
       "\n",
       "       coord z     coord x    coord y  \n",
       "0     23.00000  472.000000  247.00000  \n",
       "1     27.00000  515.000000  300.00000  \n",
       "2     29.60274  539.172211  232.60274  \n",
       "3     23.00000  472.000000  247.00000  \n",
       "4     27.00000  515.000000  300.00000  \n",
       "...        ...         ...        ...  \n",
       "4231  17.00000  458.000000  451.00000  \n",
       "4232  19.00000  190.000000  432.00000  \n",
       "4233  20.00000  159.000000  428.00000  \n",
       "4234  20.00000  266.000000  310.00000  \n",
       "4235  25.00000  110.000000  164.00000  \n",
       "\n",
       "[4236 rows x 7 columns]"
      ]
     },
     "execution_count": 24,
     "metadata": {},
     "output_type": "execute_result"
    }
   ],
   "source": [
    "df"
   ]
  },
  {
   "cell_type": "code",
   "execution_count": null,
   "metadata": {},
   "outputs": [],
   "source": []
  }
 ],
 "metadata": {
  "kernelspec": {
   "display_name": "Python 3",
   "language": "python",
   "name": "python3"
  },
  "language_info": {
   "codemirror_mode": {
    "name": "ipython",
    "version": 3
   },
   "file_extension": ".py",
   "mimetype": "text/x-python",
   "name": "python",
   "nbconvert_exporter": "python",
   "pygments_lexer": "ipython3",
   "version": "3.7.3"
  }
 },
 "nbformat": 4,
 "nbformat_minor": 4
}
